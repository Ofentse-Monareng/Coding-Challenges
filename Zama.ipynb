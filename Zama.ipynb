{
 "cells": [
  {
   "cell_type": "code",
   "execution_count": 33,
   "metadata": {},
   "outputs": [],
   "source": [
    "def first_n_fibonacci(n): \n",
    "    prev_num = 0\n",
    "    curr_num = 1\n",
    "    fibonacci_numbers = [prev_num,curr_num]\n",
    "    count = 2\n",
    "    \n",
    "    while count <= n:\n",
    "        next_num = prev_num + curr_num\n",
    "        if next_num <= 100:\n",
    "            fibonacci_numbers.append(next_num)\n",
    "        prev_num = curr_num\n",
    "        curr_num = next_num\n",
    "        count += 1\n",
    "    return  fibonacci_numbers"
   ]
  },
  {
   "cell_type": "code",
   "execution_count": 34,
   "metadata": {},
   "outputs": [
    {
     "name": "stdout",
     "output_type": "stream",
     "text": [
      "0 : Awesome\n",
      "1 : Awesome\n",
      "2 : Awesome\n",
      "3 : Awesome\n",
      "5 : Awesome\n",
      "5 : Outsurance\n",
      "5 : Awesome Outsurance\n",
      "8 : Awesome\n",
      "10 : Outsurance\n",
      "13 : Awesome\n",
      "15 : Outsurance\n",
      "20 : Outsurance\n",
      "21 : Awesome\n",
      "25 : Outsurance\n",
      "30 : Outsurance\n",
      "34 : Awesome\n",
      "35 : Outsurance\n",
      "40 : Outsurance\n",
      "45 : Outsurance\n",
      "50 : Outsurance\n",
      "55 : Awesome\n",
      "55 : Outsurance\n",
      "55 : Awesome Outsurance\n",
      "60 : Outsurance\n",
      "65 : Outsurance\n",
      "70 : Outsurance\n",
      "75 : Outsurance\n",
      "80 : Outsurance\n",
      "85 : Outsurance\n",
      "89 : Awesome\n",
      "90 : Outsurance\n",
      "95 : Outsurance\n",
      "100 : Outsurance\n"
     ]
    }
   ],
   "source": [
    "for number in range(101):\n",
    "    if number in first_n_fibonacci(100):\n",
    "        print(number,':','Awesome')\n",
    "    if number in range(5,101,5):\n",
    "        print(number,':','Outsurance')\n",
    "    if number in first_n_fibonacci(100) and number in range(5,101,5):\n",
    "        print(number,':','Awesome Outsurance')\n",
    "    "
   ]
  }
 ],
 "metadata": {
  "kernelspec": {
   "display_name": "Python 3",
   "language": "python",
   "name": "python3"
  },
  "language_info": {
   "codemirror_mode": {
    "name": "ipython",
    "version": 3
   },
   "file_extension": ".py",
   "mimetype": "text/x-python",
   "name": "python",
   "nbconvert_exporter": "python",
   "pygments_lexer": "ipython3",
   "version": "3.7.3"
  }
 },
 "nbformat": 4,
 "nbformat_minor": 2
}
